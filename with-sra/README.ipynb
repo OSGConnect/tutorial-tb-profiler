{
 "cells": [
  {
   "cell_type": "markdown",
   "id": "4a5c6077-14a4-4760-aa3a-67c14be3bbf3",
   "metadata": {},
   "source": [
    "# Running TB Profiler on SRA Data"
   ]
  },
  {
   "cell_type": "markdown",
   "id": "4a129d15-cdda-4779-960b-f23b94688af7",
   "metadata": {},
   "source": [
    "## Exploring On Own Computer"
   ]
  },
  {
   "cell_type": "markdown",
   "id": "a6575136-639f-4853-8ddb-3cda18a23abe",
   "metadata": {},
   "source": [
    "Code: [TBProfiler](https://github.com/jodyphelan/TBProfiler) \n",
    "\n",
    "Data: [SRA](https://www.ncbi.nlm.nih.gov/sra)\n",
    "\n",
    "Suppose I want to explore using the TB Profiler tool with sample SRA data. I download a few sample data files on my computer, follow the installation instructions, and run a few test computations. I know there are hundreds of data files that I may want to analyze and I don't want to tie up my computer. I'm going to move these commands from my computer to an HTC system, using an Access Point and HTCondor. "
   ]
  },
  {
   "cell_type": "markdown",
   "id": "bf3a5305-5901-491b-a74f-eddc29090a5e",
   "metadata": {},
   "source": [
    "## Identifying Job Components"
   ]
  },
  {
   "cell_type": "markdown",
   "id": "afce59e7-9578-48d1-8e68-2ec0dff5107d",
   "metadata": {},
   "source": [
    "Based on our experience running on our own computer, these are the components that we need to account for or recreate for our jobs: \n",
    "* A single job corresponds to a single sample, we will start with **48 samples** (for now) to run. \n",
    "* **Software environment:** installing tb-profiler using conda\n",
    "* Command format is: `tb-profiler profile -1 SRA####_1.fastq -2 SRA####_2.fastq -t 1 -p SRA####`\n",
    "* **Input:** Pre-stage the needed fastq files or download in the job; file name convention is `SRA####_1.fastq` and `SRA####_2.fastq`\n",
    "* **Output:** Output is in a \"results\" folder and has the naming convention: `SRA####.results.json`\n",
    "* **Compute Resources:** 1 core, 4GB of disk space, unknown memory\n",
    "* **Time:** one job takes a few minutes to run\n"
   ]
  },
  {
   "cell_type": "markdown",
   "id": "08d6ce0a-3d77-40c6-b046-2923c1384853",
   "metadata": {},
   "source": [
    "## Prepare and Test Software Environment"
   ]
  },
  {
   "cell_type": "markdown",
   "id": "f7bd71cf-2579-4cc2-b27e-7ba12e9aa59e",
   "metadata": {},
   "source": [
    "> [These training materials](https://portal.osg-htc.org/documentation/support_and_training/training/osgusertraining/#using-containerized-software-on-the-open-science-pool) provide a nice introduction to containers in the OSPool. \n",
    "\n",
    "For this job, we will recreate our conda environment in a container. \n",
    "\n",
    "Containers can be created (or \"built\") from a definition file. The definition file below includes some standard configuration for setting up a conda environment. It has been customized in the `%post` section where the specific tb-profiler installation commands are inserted (directly from the [installation instructions](https://github.com/jodyphelan/TBProfiler#conda)). "
   ]
  },
  {
   "cell_type": "code",
   "execution_count": null,
   "id": "ce580df0-748c-4c67-92a2-7739bd4177fd",
   "metadata": {},
   "outputs": [],
   "source": [
    "cat build/tb-profiler-sra.def"
   ]
  },
  {
   "cell_type": "markdown",
   "id": "3b475c7c-cbcf-4e21-899e-211349d05083",
   "metadata": {},
   "source": [
    "To build the container in the `build` folder, you would run this sequence of commands: \n",
    "\n",
    "```\n",
    "cd ../build\n",
    "apptainer build tb-profiler-sra.sif tb-profiler-sra.def\n",
    "cd ../with-sra\n",
    "```\n",
    "\n",
    "You do not need to build the container to participate in the tutorial (it takes a long time to build!), so we have a copy pre-staged in a public location that can be used for submitting jobs. "
   ]
  },
  {
   "cell_type": "markdown",
   "id": "71b570d9-da7d-43a1-8b25-a43bd9aeecb9",
   "metadata": {},
   "source": [
    "Similarly, once the container is built, the following sequence of commands can be used to download the container...\n"
   ]
  },
  {
   "cell_type": "code",
   "execution_count": null,
   "id": "f86ef63a-3114-477b-ba81-042e78c15791",
   "metadata": {},
   "outputs": [],
   "source": [
    "stashcp /osgconnect/public/osg/tutorial-tb-profiler/tb-profiler-sra.sif ../build/"
   ]
  },
  {
   "cell_type": "markdown",
   "id": "1c226fc3-249d-470d-8435-9ff17b33f5f6",
   "metadata": {},
   "source": [
    "These commands can then be run from the command line to test it. \n",
    "```\n",
    "##  to be run in the command line: \n",
    "# download the container if you didn't build a local copy\n",
    "# start the container with a shell\n",
    "apptainer shell ../build/tb-profiler-sra.sif\n",
    "# run the tb-profiler command to see if it is in the container\n",
    "tb-profiler\n",
    "# see where the tb-profiler program is installed in the container\n",
    "which tb-profiler\n",
    "# exit the container\n",
    "exit\n",
    "```"
   ]
  },
  {
   "cell_type": "markdown",
   "id": "352e9bd2-ae97-441f-85e2-993fbe7d627b",
   "metadata": {},
   "source": [
    "## Stage Inputs"
   ]
  },
  {
   "cell_type": "markdown",
   "id": "eed17b8a-2f5d-4f83-97cd-3761f199c051",
   "metadata": {},
   "source": [
    "First, how will fetch the **input** data to our jobs? We have a few options: \n",
    "1) download the data directly from NCBI in the job, using `sra-toolkit`\n",
    "2) upload inputs to our home folder on an Access Point, use HTCondor's default file transfer to fetch the inputs to jobs\n",
    "3) upload the inputs to an OSDF folder, use OSDF URLs to fetch inputs to jobs\n",
    "\n",
    "We generally recommend the last two options because they are more visible and managed by HTCondor. In this example, we'll be using the SRA toolkit to download data in the jobs. "
   ]
  },
  {
   "cell_type": "markdown",
   "id": "490ea5b8-b87e-4230-bd58-0dc5a6cc2fa4",
   "metadata": {},
   "source": [
    "One thing we can do now to make life easier for ourselves later is to generate a list of the input files to use later for our job submission. "
   ]
  },
  {
   "cell_type": "code",
   "execution_count": null,
   "id": "5fbda08c-c6d3-46a8-af2a-ed8d7ea85bcb",
   "metadata": {},
   "outputs": [],
   "source": [
    "head -n 10 ../SraAccList.csv"
   ]
  },
  {
   "cell_type": "markdown",
   "id": "1a63a0a0-bb83-4096-a3e5-d8a3272e08a8",
   "metadata": {},
   "source": [
    "## Organize Output Files"
   ]
  },
  {
   "cell_type": "markdown",
   "id": "ad230be4-bf0f-4184-8b3c-b6edfc429cdf",
   "metadata": {},
   "source": [
    "We've already sectioned off our software environment (container and definition files) into their own folder. Our input files are staged in the OSDF. The remaining thing to think about are the outputs. We will have the `.json` file produced for each sample, which we will put in an `outputs` folder, and job log, error and stdout files, which we will put in a `logs` folder. "
   ]
  },
  {
   "cell_type": "code",
   "execution_count": null,
   "id": "6c3f7494-8dce-428d-817f-a4b171a16ab8",
   "metadata": {},
   "outputs": [],
   "source": [
    "mkdir -p outputs"
   ]
  },
  {
   "cell_type": "code",
   "execution_count": null,
   "id": "f000018b-00c6-43b8-9678-469977aa24c6",
   "metadata": {},
   "outputs": [],
   "source": [
    "mkdir -p logs"
   ]
  },
  {
   "cell_type": "markdown",
   "id": "01efe853-716f-4827-8628-d17411dafca9",
   "metadata": {},
   "source": [
    "## Writing an Executable"
   ]
  },
  {
   "cell_type": "markdown",
   "id": "7e8714db-f8e6-4e2c-957c-75b075a6c948",
   "metadata": {},
   "source": [
    "Because our job needs to do two things - fetch the data and then run the tb-profiler program, we'll write a shell script that does both steps and use it for our jobs executable. To make it easier to scale up later, the SRA value is an argument provided to the script. "
   ]
  },
  {
   "cell_type": "code",
   "execution_count": null,
   "id": "76937574-649b-43a7-9026-662156539c63",
   "metadata": {},
   "outputs": [],
   "source": [
    "cat tb-profiler.sh"
   ]
  },
  {
   "cell_type": "markdown",
   "id": "296e0487-6312-461f-b6af-01dc930b1569",
   "metadata": {},
   "source": [
    "## Submit One Job"
   ]
  },
  {
   "cell_type": "markdown",
   "id": "4e834c31-2965-49bf-aaba-9b1db14f8c9b",
   "metadata": {},
   "source": [
    "All this comes together in a submit file. The first half captures all the set up work we did in the previous steps: \n",
    "- invoking our container\n",
    "- executing the tb-profiler script\n",
    "- bringing the results files back from the job\n",
    "- writing log and error information into a sub folder"
   ]
  },
  {
   "cell_type": "code",
   "execution_count": null,
   "id": "b1053950-faa0-438d-b431-16870b975a41",
   "metadata": {},
   "outputs": [],
   "source": [
    "cat tb-profiler-notebook.sub"
   ]
  },
  {
   "cell_type": "code",
   "execution_count": null,
   "id": "546e2202-82c8-4bc3-a67c-fa760929b99b",
   "metadata": {},
   "outputs": [],
   "source": [
    "condor_submit tb-profiler-notebook.sub"
   ]
  },
  {
   "cell_type": "code",
   "execution_count": null,
   "id": "fb2e1992-0343-4a07-a945-d969968654f0",
   "metadata": {},
   "outputs": [],
   "source": [
    "condor_q"
   ]
  },
  {
   "cell_type": "markdown",
   "id": "8b2d90bb-4ecf-4a11-9509-b505d0dfbb10",
   "metadata": {},
   "source": [
    "## Submit Multiple Jobs"
   ]
  },
  {
   "cell_type": "markdown",
   "id": "ecfc6a24-83c4-48f8-93ab-6211ad1f29c1",
   "metadata": {},
   "source": [
    "To submit multiple jobs, we simply change the last line of the submit file. Instead of setting `sequence_read` manually and submitting one job, the `queue .. from` syntax can be used to submit a job for each item in our list of SRA id numbers: \n",
    "```\n",
    "queue sequence_read from ../SraAccList.csv\n",
    "```\n",
    "Make this change in the submit file and then resubmit. "
   ]
  },
  {
   "cell_type": "code",
   "execution_count": null,
   "id": "1f25422b-f0bb-4f20-ac49-8893977c974a",
   "metadata": {},
   "outputs": [],
   "source": [
    "condor_submit tb-profiler-notebook.sub"
   ]
  },
  {
   "cell_type": "code",
   "execution_count": null,
   "id": "3b521319-31f3-43aa-b0c0-e7db340f55fd",
   "metadata": {},
   "outputs": [],
   "source": [
    "condor_q"
   ]
  }
 ],
 "metadata": {
  "kernelspec": {
   "display_name": "Bash",
   "language": "bash",
   "name": "bash"
  },
  "language_info": {
   "codemirror_mode": "shell",
   "file_extension": ".sh",
   "mimetype": "text/x-sh",
   "name": "bash"
  }
 },
 "nbformat": 4,
 "nbformat_minor": 5
}
